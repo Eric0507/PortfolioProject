{
 "cells": [
  {
   "cell_type": "code",
   "execution_count": 1,
   "id": "2439fa04",
   "metadata": {
    "_cell_guid": "b1076dfc-b9ad-4769-8c92-a6c4dae69d19",
    "_uuid": "8f2839f25d086af736a60e9eeb907d3b93b6e0e5",
    "execution": {
     "iopub.execute_input": "2021-12-23T10:42:00.260711Z",
     "iopub.status.busy": "2021-12-23T10:42:00.253319Z",
     "iopub.status.idle": "2021-12-23T10:42:00.276576Z",
     "shell.execute_reply": "2021-12-23T10:42:00.277083Z",
     "shell.execute_reply.started": "2021-12-23T09:09:00.471945Z"
    },
    "papermill": {
     "duration": 0.040864,
     "end_time": "2021-12-23T10:42:00.277398",
     "exception": false,
     "start_time": "2021-12-23T10:42:00.236534",
     "status": "completed"
    },
    "tags": []
   },
   "outputs": [
    {
     "name": "stdout",
     "output_type": "stream",
     "text": [
      "/kaggle/input/restaurant-business-rankings-2020/Top250.csv\n",
      "/kaggle/input/restaurant-business-rankings-2020/Future50.csv\n",
      "/kaggle/input/restaurant-business-rankings-2020/Independence100.csv\n"
     ]
    }
   ],
   "source": [
    "# This Python 3 environment comes with many helpful analytics libraries installed\n",
    "# It is defined by the kaggle/python Docker image: https://github.com/kaggle/docker-python\n",
    "# For example, here's several helpful packages to load\n",
    "\n",
    "import numpy as np # linear algebra\n",
    "import pandas as pd # data processing, CSV file I/O (e.g. pd.read_csv)\n",
    "\n",
    "# Input data files are available in the read-only \"../input/\" directory\n",
    "# For example, running this (by clicking run or pressing Shift+Enter) will list all files under the input directory\n",
    "\n",
    "import os\n",
    "for dirname, _, filenames in os.walk('/kaggle/input'):\n",
    "    for filename in filenames:\n",
    "        print(os.path.join(dirname, filename))\n",
    "\n",
    "# You can write up to 20GB to the current directory (/kaggle/working/) that gets preserved as output when you create a version using \"Save & Run All\" \n",
    "# You can also write temporary files to /kaggle/temp/, but they won't be saved outside of the current session"
   ]
  },
  {
   "cell_type": "code",
   "execution_count": 2,
   "id": "0edeb57f",
   "metadata": {
    "execution": {
     "iopub.execute_input": "2021-12-23T10:42:00.306270Z",
     "iopub.status.busy": "2021-12-23T10:42:00.303511Z",
     "iopub.status.idle": "2021-12-23T10:42:01.386596Z",
     "shell.execute_reply": "2021-12-23T10:42:01.387127Z",
     "shell.execute_reply.started": "2021-12-23T09:09:00.485795Z"
    },
    "papermill": {
     "duration": 1.097793,
     "end_time": "2021-12-23T10:42:01.387323",
     "exception": false,
     "start_time": "2021-12-23T10:42:00.289530",
     "status": "completed"
    },
    "tags": []
   },
   "outputs": [],
   "source": [
    "# Importing any additional libraries that may be useful\n",
    "\n",
    "import seaborn as sns\n",
    "\n",
    "import matplotlib.pyplot as plt\n",
    "import matplotlib.mlab as mlab\n",
    "import matplotlib\n",
    "plt.style.use('ggplot')\n",
    "from matplotlib.pyplot import figure"
   ]
  },
  {
   "cell_type": "code",
   "execution_count": 3,
   "id": "e19da6fb",
   "metadata": {
    "execution": {
     "iopub.execute_input": "2021-12-23T10:42:01.415846Z",
     "iopub.status.busy": "2021-12-23T10:42:01.415091Z",
     "iopub.status.idle": "2021-12-23T10:42:01.432451Z",
     "shell.execute_reply": "2021-12-23T10:42:01.432950Z",
     "shell.execute_reply.started": "2021-12-23T09:09:00.493077Z"
    },
    "papermill": {
     "duration": 0.033944,
     "end_time": "2021-12-23T10:42:01.433205",
     "exception": false,
     "start_time": "2021-12-23T10:42:01.399261",
     "status": "completed"
    },
    "tags": []
   },
   "outputs": [],
   "source": [
    "# Reading in the data\n",
    "df = pd.read_csv(\"../input/restaurant-business-rankings-2020/Top250.csv\")"
   ]
  },
  {
   "cell_type": "code",
   "execution_count": 4,
   "id": "520ae365",
   "metadata": {
    "execution": {
     "iopub.execute_input": "2021-12-23T10:42:01.459911Z",
     "iopub.status.busy": "2021-12-23T10:42:01.458935Z",
     "iopub.status.idle": "2021-12-23T10:42:01.483095Z",
     "shell.execute_reply": "2021-12-23T10:42:01.483610Z",
     "shell.execute_reply.started": "2021-12-23T09:09:00.509184Z"
    },
    "papermill": {
     "duration": 0.039052,
     "end_time": "2021-12-23T10:42:01.483783",
     "exception": false,
     "start_time": "2021-12-23T10:42:01.444731",
     "status": "completed"
    },
    "tags": []
   },
   "outputs": [
    {
     "data": {
      "text/html": [
       "<div>\n",
       "<style scoped>\n",
       "    .dataframe tbody tr th:only-of-type {\n",
       "        vertical-align: middle;\n",
       "    }\n",
       "\n",
       "    .dataframe tbody tr th {\n",
       "        vertical-align: top;\n",
       "    }\n",
       "\n",
       "    .dataframe thead th {\n",
       "        text-align: right;\n",
       "    }\n",
       "</style>\n",
       "<table border=\"1\" class=\"dataframe\">\n",
       "  <thead>\n",
       "    <tr style=\"text-align: right;\">\n",
       "      <th></th>\n",
       "      <th>Rank</th>\n",
       "      <th>Restaurant</th>\n",
       "      <th>Content</th>\n",
       "      <th>Sales</th>\n",
       "      <th>YOY_Sales</th>\n",
       "      <th>Units</th>\n",
       "      <th>YOY_Units</th>\n",
       "      <th>Headquarters</th>\n",
       "      <th>Segment_Category</th>\n",
       "    </tr>\n",
       "  </thead>\n",
       "  <tbody>\n",
       "    <tr>\n",
       "      <th>0</th>\n",
       "      <td>1</td>\n",
       "      <td>McDonald's</td>\n",
       "      <td>NaN</td>\n",
       "      <td>40412</td>\n",
       "      <td>4.9%</td>\n",
       "      <td>13846</td>\n",
       "      <td>-0.5%</td>\n",
       "      <td>NaN</td>\n",
       "      <td>Quick Service &amp; Burger</td>\n",
       "    </tr>\n",
       "    <tr>\n",
       "      <th>1</th>\n",
       "      <td>2</td>\n",
       "      <td>Starbucks</td>\n",
       "      <td>NaN</td>\n",
       "      <td>21380</td>\n",
       "      <td>8.6%</td>\n",
       "      <td>15049</td>\n",
       "      <td>3.0%</td>\n",
       "      <td>NaN</td>\n",
       "      <td>Quick Service &amp; Coffee Cafe</td>\n",
       "    </tr>\n",
       "    <tr>\n",
       "      <th>2</th>\n",
       "      <td>3</td>\n",
       "      <td>Chick-fil-A</td>\n",
       "      <td>While Popeyes got a lot of the chicken buzz in...</td>\n",
       "      <td>11320</td>\n",
       "      <td>13.0%</td>\n",
       "      <td>2470</td>\n",
       "      <td>5.0%</td>\n",
       "      <td>NaN</td>\n",
       "      <td>Quick Service &amp; Chicken</td>\n",
       "    </tr>\n",
       "    <tr>\n",
       "      <th>3</th>\n",
       "      <td>4</td>\n",
       "      <td>Taco Bell</td>\n",
       "      <td>NaN</td>\n",
       "      <td>11293</td>\n",
       "      <td>9.0%</td>\n",
       "      <td>6766</td>\n",
       "      <td>2.7%</td>\n",
       "      <td>NaN</td>\n",
       "      <td>Quick Service &amp; Mexican</td>\n",
       "    </tr>\n",
       "    <tr>\n",
       "      <th>4</th>\n",
       "      <td>5</td>\n",
       "      <td>Burger King</td>\n",
       "      <td>NaN</td>\n",
       "      <td>10204</td>\n",
       "      <td>2.7%</td>\n",
       "      <td>7346</td>\n",
       "      <td>0.2%</td>\n",
       "      <td>NaN</td>\n",
       "      <td>Quick Service &amp; Burger</td>\n",
       "    </tr>\n",
       "    <tr>\n",
       "      <th>5</th>\n",
       "      <td>6</td>\n",
       "      <td>Subway</td>\n",
       "      <td>NaN</td>\n",
       "      <td>10200</td>\n",
       "      <td>-2.0%</td>\n",
       "      <td>23801</td>\n",
       "      <td>-4.0%</td>\n",
       "      <td>NaN</td>\n",
       "      <td>Quick Service &amp; Sandwich</td>\n",
       "    </tr>\n",
       "    <tr>\n",
       "      <th>6</th>\n",
       "      <td>7</td>\n",
       "      <td>Wendy's</td>\n",
       "      <td>NaN</td>\n",
       "      <td>9762</td>\n",
       "      <td>4.2%</td>\n",
       "      <td>5852</td>\n",
       "      <td>0.7%</td>\n",
       "      <td>NaN</td>\n",
       "      <td>Quick Service &amp; Burger</td>\n",
       "    </tr>\n",
       "    <tr>\n",
       "      <th>7</th>\n",
       "      <td>8</td>\n",
       "      <td>Dunkin'</td>\n",
       "      <td>Dunkin' dropped \"Donuts\" from its name and rep...</td>\n",
       "      <td>9228</td>\n",
       "      <td>5.0%</td>\n",
       "      <td>9630</td>\n",
       "      <td>2.2%</td>\n",
       "      <td>NaN</td>\n",
       "      <td>Quick Service &amp; Coffee Cafe</td>\n",
       "    </tr>\n",
       "    <tr>\n",
       "      <th>8</th>\n",
       "      <td>9</td>\n",
       "      <td>Domino's</td>\n",
       "      <td>NaN</td>\n",
       "      <td>7044</td>\n",
       "      <td>6.9%</td>\n",
       "      <td>6126</td>\n",
       "      <td>4.3%</td>\n",
       "      <td>NaN</td>\n",
       "      <td>Quick Service &amp; Pizza</td>\n",
       "    </tr>\n",
       "    <tr>\n",
       "      <th>9</th>\n",
       "      <td>10</td>\n",
       "      <td>Panera Bread</td>\n",
       "      <td>NaN</td>\n",
       "      <td>5890</td>\n",
       "      <td>4.0%</td>\n",
       "      <td>2160</td>\n",
       "      <td>3.2%</td>\n",
       "      <td>NaN</td>\n",
       "      <td>Fast Casual &amp; Bakery Cafe</td>\n",
       "    </tr>\n",
       "  </tbody>\n",
       "</table>\n",
       "</div>"
      ],
      "text/plain": [
       "   Rank    Restaurant                                            Content  \\\n",
       "0     1    McDonald's                                                NaN   \n",
       "1     2     Starbucks                                                NaN   \n",
       "2     3   Chick-fil-A  While Popeyes got a lot of the chicken buzz in...   \n",
       "3     4     Taco Bell                                                NaN   \n",
       "4     5   Burger King                                                NaN   \n",
       "5     6        Subway                                                NaN   \n",
       "6     7       Wendy's                                                NaN   \n",
       "7     8       Dunkin'  Dunkin' dropped \"Donuts\" from its name and rep...   \n",
       "8     9      Domino's                                                NaN   \n",
       "9    10  Panera Bread                                                NaN   \n",
       "\n",
       "   Sales YOY_Sales  Units YOY_Units Headquarters             Segment_Category  \n",
       "0  40412      4.9%  13846     -0.5%          NaN       Quick Service & Burger  \n",
       "1  21380      8.6%  15049      3.0%          NaN  Quick Service & Coffee Cafe  \n",
       "2  11320     13.0%   2470      5.0%          NaN      Quick Service & Chicken  \n",
       "3  11293      9.0%   6766      2.7%          NaN      Quick Service & Mexican  \n",
       "4  10204      2.7%   7346      0.2%          NaN       Quick Service & Burger  \n",
       "5  10200     -2.0%  23801     -4.0%          NaN     Quick Service & Sandwich  \n",
       "6   9762      4.2%   5852      0.7%          NaN       Quick Service & Burger  \n",
       "7   9228      5.0%   9630      2.2%          NaN  Quick Service & Coffee Cafe  \n",
       "8   7044      6.9%   6126      4.3%          NaN        Quick Service & Pizza  \n",
       "9   5890      4.0%   2160      3.2%          NaN    Fast Casual & Bakery Cafe  "
      ]
     },
     "execution_count": 4,
     "metadata": {},
     "output_type": "execute_result"
    }
   ],
   "source": [
    "# Viewing the data\n",
    "df.head(10)"
   ]
  },
  {
   "cell_type": "code",
   "execution_count": 5,
   "id": "1f643c82",
   "metadata": {
    "execution": {
     "iopub.execute_input": "2021-12-23T10:42:01.511511Z",
     "iopub.status.busy": "2021-12-23T10:42:01.510541Z",
     "iopub.status.idle": "2021-12-23T10:42:01.524085Z",
     "shell.execute_reply": "2021-12-23T10:42:01.524595Z",
     "shell.execute_reply.started": "2021-12-23T09:09:00.531387Z"
    },
    "papermill": {
     "duration": 0.029074,
     "end_time": "2021-12-23T10:42:01.524765",
     "exception": false,
     "start_time": "2021-12-23T10:42:01.495691",
     "status": "completed"
    },
    "tags": []
   },
   "outputs": [
    {
     "name": "stdout",
     "output_type": "stream",
     "text": [
      "Rank - 0%\n",
      "Restaurant - 0%\n",
      "Content - 87%\n",
      "Sales - 0%\n",
      "YOY_Sales - 0%\n",
      "Units - 0%\n",
      "YOY_Units - 0%\n",
      "Headquarters - 79%\n",
      "Segment_Category - 0%\n"
     ]
    }
   ],
   "source": [
    "# Looking for missing data using for loops\n",
    "for col in df.columns:\n",
    "    pct_missing = np.mean(df[col].isnull())\n",
    "    print('{} - {}%'.format(col, round(pct_missing*100)))\n",
    "\n",
    "# Seems to be that 'Content' and 'Headquarters' are missing data\n",
    "# Upon reviewing, the missing data is not pertinent to the analysis"
   ]
  },
  {
   "cell_type": "code",
   "execution_count": 6,
   "id": "edbccca6",
   "metadata": {
    "execution": {
     "iopub.execute_input": "2021-12-23T10:42:01.553501Z",
     "iopub.status.busy": "2021-12-23T10:42:01.552539Z",
     "iopub.status.idle": "2021-12-23T10:42:01.558659Z",
     "shell.execute_reply": "2021-12-23T10:42:01.559148Z",
     "shell.execute_reply.started": "2021-12-23T09:09:00.545294Z"
    },
    "papermill": {
     "duration": 0.022058,
     "end_time": "2021-12-23T10:42:01.559323",
     "exception": false,
     "start_time": "2021-12-23T10:42:01.537265",
     "status": "completed"
    },
    "tags": []
   },
   "outputs": [
    {
     "name": "stdout",
     "output_type": "stream",
     "text": [
      "Rank                 int64\n",
      "Restaurant          object\n",
      "Content             object\n",
      "Sales                int64\n",
      "YOY_Sales           object\n",
      "Units                int64\n",
      "YOY_Units           object\n",
      "Headquarters        object\n",
      "Segment_Category    object\n",
      "dtype: object\n"
     ]
    }
   ],
   "source": [
    "# Data Types for our columns\n",
    "\n",
    "print(df.dtypes)"
   ]
  },
  {
   "cell_type": "code",
   "execution_count": 7,
   "id": "1489532b",
   "metadata": {
    "execution": {
     "iopub.execute_input": "2021-12-23T10:42:01.593310Z",
     "iopub.status.busy": "2021-12-23T10:42:01.592512Z",
     "iopub.status.idle": "2021-12-23T10:42:01.617786Z",
     "shell.execute_reply": "2021-12-23T10:42:01.616788Z",
     "shell.execute_reply.started": "2021-12-23T09:09:00.556152Z"
    },
    "papermill": {
     "duration": 0.046212,
     "end_time": "2021-12-23T10:42:01.618045",
     "exception": false,
     "start_time": "2021-12-23T10:42:01.571833",
     "status": "completed"
    },
    "tags": []
   },
   "outputs": [
    {
     "data": {
      "text/html": [
       "<div>\n",
       "<style scoped>\n",
       "    .dataframe tbody tr th:only-of-type {\n",
       "        vertical-align: middle;\n",
       "    }\n",
       "\n",
       "    .dataframe tbody tr th {\n",
       "        vertical-align: top;\n",
       "    }\n",
       "\n",
       "    .dataframe thead th {\n",
       "        text-align: right;\n",
       "    }\n",
       "</style>\n",
       "<table border=\"1\" class=\"dataframe\">\n",
       "  <thead>\n",
       "    <tr style=\"text-align: right;\">\n",
       "      <th></th>\n",
       "      <th>Rank</th>\n",
       "      <th>Restaurant</th>\n",
       "      <th>Content</th>\n",
       "      <th>Sales</th>\n",
       "      <th>YOY_Sales</th>\n",
       "      <th>Units</th>\n",
       "      <th>YOY_Units</th>\n",
       "      <th>Headquarters</th>\n",
       "      <th>Segment_Category</th>\n",
       "    </tr>\n",
       "  </thead>\n",
       "  <tbody>\n",
       "    <tr>\n",
       "      <th>0</th>\n",
       "      <td>1</td>\n",
       "      <td>McDonald's</td>\n",
       "      <td>NaN</td>\n",
       "      <td>40412</td>\n",
       "      <td>4.9%</td>\n",
       "      <td>13846</td>\n",
       "      <td>-0.5%</td>\n",
       "      <td>NaN</td>\n",
       "      <td>Quick Service &amp; Burger</td>\n",
       "    </tr>\n",
       "    <tr>\n",
       "      <th>1</th>\n",
       "      <td>2</td>\n",
       "      <td>Starbucks</td>\n",
       "      <td>NaN</td>\n",
       "      <td>21380</td>\n",
       "      <td>8.6%</td>\n",
       "      <td>15049</td>\n",
       "      <td>3.0%</td>\n",
       "      <td>NaN</td>\n",
       "      <td>Quick Service &amp; Coffee Cafe</td>\n",
       "    </tr>\n",
       "    <tr>\n",
       "      <th>2</th>\n",
       "      <td>3</td>\n",
       "      <td>Chick-fil-A</td>\n",
       "      <td>While Popeyes got a lot of the chicken buzz in...</td>\n",
       "      <td>11320</td>\n",
       "      <td>13.0%</td>\n",
       "      <td>2470</td>\n",
       "      <td>5.0%</td>\n",
       "      <td>NaN</td>\n",
       "      <td>Quick Service &amp; Chicken</td>\n",
       "    </tr>\n",
       "    <tr>\n",
       "      <th>3</th>\n",
       "      <td>4</td>\n",
       "      <td>Taco Bell</td>\n",
       "      <td>NaN</td>\n",
       "      <td>11293</td>\n",
       "      <td>9.0%</td>\n",
       "      <td>6766</td>\n",
       "      <td>2.7%</td>\n",
       "      <td>NaN</td>\n",
       "      <td>Quick Service &amp; Mexican</td>\n",
       "    </tr>\n",
       "    <tr>\n",
       "      <th>4</th>\n",
       "      <td>5</td>\n",
       "      <td>Burger King</td>\n",
       "      <td>NaN</td>\n",
       "      <td>10204</td>\n",
       "      <td>2.7%</td>\n",
       "      <td>7346</td>\n",
       "      <td>0.2%</td>\n",
       "      <td>NaN</td>\n",
       "      <td>Quick Service &amp; Burger</td>\n",
       "    </tr>\n",
       "    <tr>\n",
       "      <th>...</th>\n",
       "      <td>...</td>\n",
       "      <td>...</td>\n",
       "      <td>...</td>\n",
       "      <td>...</td>\n",
       "      <td>...</td>\n",
       "      <td>...</td>\n",
       "      <td>...</td>\n",
       "      <td>...</td>\n",
       "      <td>...</td>\n",
       "    </tr>\n",
       "    <tr>\n",
       "      <th>245</th>\n",
       "      <td>246</td>\n",
       "      <td>Rainforest Cafe</td>\n",
       "      <td>NaN</td>\n",
       "      <td>129</td>\n",
       "      <td>-10.4%</td>\n",
       "      <td>18</td>\n",
       "      <td>-5.3%</td>\n",
       "      <td>NaN</td>\n",
       "      <td>Varied Menu</td>\n",
       "    </tr>\n",
       "    <tr>\n",
       "      <th>246</th>\n",
       "      <td>247</td>\n",
       "      <td>PDQ</td>\n",
       "      <td>NaN</td>\n",
       "      <td>127</td>\n",
       "      <td>-5.5%</td>\n",
       "      <td>56</td>\n",
       "      <td>-11.1%</td>\n",
       "      <td>NaN</td>\n",
       "      <td>Chicken</td>\n",
       "    </tr>\n",
       "    <tr>\n",
       "      <th>247</th>\n",
       "      <td>248</td>\n",
       "      <td>Lupe Tortilla</td>\n",
       "      <td>NaN</td>\n",
       "      <td>127</td>\n",
       "      <td>12.1%</td>\n",
       "      <td>25</td>\n",
       "      <td>8.7%</td>\n",
       "      <td>NaN</td>\n",
       "      <td>Mexican</td>\n",
       "    </tr>\n",
       "    <tr>\n",
       "      <th>248</th>\n",
       "      <td>249</td>\n",
       "      <td>Cook-Out Restaurant</td>\n",
       "      <td>NaN</td>\n",
       "      <td>126</td>\n",
       "      <td>10.1%</td>\n",
       "      <td>270</td>\n",
       "      <td>7.1%</td>\n",
       "      <td>NaN</td>\n",
       "      <td>Burger</td>\n",
       "    </tr>\n",
       "    <tr>\n",
       "      <th>249</th>\n",
       "      <td>250</td>\n",
       "      <td>Jollibee</td>\n",
       "      <td>NaN</td>\n",
       "      <td>126</td>\n",
       "      <td>15.2%</td>\n",
       "      <td>40</td>\n",
       "      <td>11.1%</td>\n",
       "      <td>NaN</td>\n",
       "      <td>Chicken</td>\n",
       "    </tr>\n",
       "  </tbody>\n",
       "</table>\n",
       "<p>250 rows × 9 columns</p>\n",
       "</div>"
      ],
      "text/plain": [
       "     Rank           Restaurant  \\\n",
       "0       1           McDonald's   \n",
       "1       2            Starbucks   \n",
       "2       3          Chick-fil-A   \n",
       "3       4            Taco Bell   \n",
       "4       5          Burger King   \n",
       "..    ...                  ...   \n",
       "245   246      Rainforest Cafe   \n",
       "246   247                  PDQ   \n",
       "247   248        Lupe Tortilla   \n",
       "248   249  Cook-Out Restaurant   \n",
       "249   250             Jollibee   \n",
       "\n",
       "                                               Content  Sales YOY_Sales  \\\n",
       "0                                                  NaN  40412      4.9%   \n",
       "1                                                  NaN  21380      8.6%   \n",
       "2    While Popeyes got a lot of the chicken buzz in...  11320     13.0%   \n",
       "3                                                  NaN  11293      9.0%   \n",
       "4                                                  NaN  10204      2.7%   \n",
       "..                                                 ...    ...       ...   \n",
       "245                                                NaN    129    -10.4%   \n",
       "246                                                NaN    127     -5.5%   \n",
       "247                                                NaN    127     12.1%   \n",
       "248                                                NaN    126     10.1%   \n",
       "249                                                NaN    126     15.2%   \n",
       "\n",
       "     Units YOY_Units Headquarters             Segment_Category  \n",
       "0    13846     -0.5%          NaN       Quick Service & Burger  \n",
       "1    15049      3.0%          NaN  Quick Service & Coffee Cafe  \n",
       "2     2470      5.0%          NaN      Quick Service & Chicken  \n",
       "3     6766      2.7%          NaN      Quick Service & Mexican  \n",
       "4     7346      0.2%          NaN       Quick Service & Burger  \n",
       "..     ...       ...          ...                          ...  \n",
       "245     18     -5.3%          NaN                  Varied Menu  \n",
       "246     56    -11.1%          NaN                      Chicken  \n",
       "247     25      8.7%          NaN                      Mexican  \n",
       "248    270      7.1%          NaN                       Burger  \n",
       "249     40     11.1%          NaN                      Chicken  \n",
       "\n",
       "[250 rows x 9 columns]"
      ]
     },
     "execution_count": 7,
     "metadata": {},
     "output_type": "execute_result"
    }
   ],
   "source": [
    "# Continuously cleaning data before analysis\n",
    "\n",
    "df.drop_duplicates()\n"
   ]
  },
  {
   "cell_type": "code",
   "execution_count": 8,
   "id": "f7a9bd40",
   "metadata": {
    "execution": {
     "iopub.execute_input": "2021-12-23T10:42:01.655141Z",
     "iopub.status.busy": "2021-12-23T10:42:01.654241Z",
     "iopub.status.idle": "2021-12-23T10:42:01.936593Z",
     "shell.execute_reply": "2021-12-23T10:42:01.936051Z",
     "shell.execute_reply.started": "2021-12-23T10:27:30.045112Z"
    },
    "papermill": {
     "duration": 0.304065,
     "end_time": "2021-12-23T10:42:01.936740",
     "exception": false,
     "start_time": "2021-12-23T10:42:01.632675",
     "status": "completed"
    },
    "tags": []
   },
   "outputs": [
    {
     "data": {
      "text/plain": [
       "Text(0, 0.5, 'Rank')"
      ]
     },
     "execution_count": 8,
     "metadata": {},
     "output_type": "execute_result"
    },
    {
     "data": {
      "image/png": "[encoded data removed]",
      "text/plain": [
       "<Figure size 432x288 with 1 Axes>"
      ]
     },
     "metadata": {},
     "output_type": "display_data"
    }
   ],
   "source": [
    "plt.scatter(x = df['Sales'], y = df['Rank'])\n",
    "plt.show\n",
    "\n",
    "plt.title('Sales vs Rank')\n",
    "plt.xlabel('# of Sales')\n",
    "plt.ylabel('Rank')\n",
    "# Obvious correlation between 'Sales' and 'Rank'\n",
    "# Curious to look for other correlation between other variables. "
   ]
  },
  {
   "cell_type": "code",
   "execution_count": 9,
   "id": "2024240e",
   "metadata": {
    "execution": {
     "iopub.execute_input": "2021-12-23T10:42:01.984051Z",
     "iopub.status.busy": "2021-12-23T10:42:01.980327Z",
     "iopub.status.idle": "2021-12-23T10:42:02.209381Z",
     "shell.execute_reply": "2021-12-23T10:42:02.208818Z",
     "shell.execute_reply.started": "2021-12-23T10:09:18.316339Z"
    },
    "papermill": {
     "duration": 0.258199,
     "end_time": "2021-12-23T10:42:02.209541",
     "exception": false,
     "start_time": "2021-12-23T10:42:01.951342",
     "status": "completed"
    },
    "tags": []
   },
   "outputs": [
    {
     "data": {
      "text/plain": [
       "Text(0, 0.5, 'Units')"
      ]
     },
     "execution_count": 9,
     "metadata": {},
     "output_type": "execute_result"
    },
    {
     "data": {
      "image/png": "[encoded data removed]",
      "text/plain": [
       "<Figure size 432x288 with 1 Axes>"
      ]
     },
     "metadata": {},
     "output_type": "display_data"
    }
   ],
   "source": [
    "plt.scatter(x = df['Sales'], y = df['Units'])\n",
    "plt.show\n",
    "\n",
    "plt.title('Sales vs Units')\n",
    "plt.xlabel('# of Sales')\n",
    "plt.ylabel('Units')\n",
    "\n",
    "# Units relating to the amount of locations that specific restaurant actively has\n",
    "# Some outliers represeted but generally seems like a positive correlation"
   ]
  },
  {
   "cell_type": "code",
   "execution_count": 10,
   "id": "0db33385",
   "metadata": {
    "execution": {
     "iopub.execute_input": "2021-12-23T10:42:02.244700Z",
     "iopub.status.busy": "2021-12-23T10:42:02.243708Z",
     "iopub.status.idle": "2021-12-23T10:42:02.628661Z",
     "shell.execute_reply": "2021-12-23T10:42:02.627978Z",
     "shell.execute_reply.started": "2021-12-23T10:24:33.863220Z"
    },
    "papermill": {
     "duration": 0.40366,
     "end_time": "2021-12-23T10:42:02.628812",
     "exception": false,
     "start_time": "2021-12-23T10:42:02.225152",
     "status": "completed"
    },
    "tags": []
   },
   "outputs": [
    {
     "data": {
      "text/plain": [
       "<AxesSubplot:xlabel='Sales', ylabel='Units'>"
      ]
     },
     "execution_count": 10,
     "metadata": {},
     "output_type": "execute_result"
    },
    {
     "data": {
      "image/png": "[encoded data removed]",
      "text/plain": [
       "<Figure size 432x288 with 1 Axes>"
      ]
     },
     "metadata": {},
     "output_type": "display_data"
    }
   ],
   "source": [
    "# Quick glance at correlation between 'Sales' and 'Units'\n",
    "\n",
    "sns.regplot(x=\"Sales\", y=\"Units\", data=df)\n"
   ]
  },
  {
   "cell_type": "code",
   "execution_count": 11,
   "id": "bebfce4f",
   "metadata": {
    "execution": {
     "iopub.execute_input": "2021-12-23T10:42:02.676812Z",
     "iopub.status.busy": "2021-12-23T10:42:02.670307Z",
     "iopub.status.idle": "2021-12-23T10:42:02.681221Z",
     "shell.execute_reply": "2021-12-23T10:42:02.680645Z",
     "shell.execute_reply.started": "2021-12-23T10:29:07.467388Z"
    },
    "papermill": {
     "duration": 0.034834,
     "end_time": "2021-12-23T10:42:02.681371",
     "exception": false,
     "start_time": "2021-12-23T10:42:02.646537",
     "status": "completed"
    },
    "tags": []
   },
   "outputs": [
    {
     "data": {
      "text/html": [
       "<div>\n",
       "<style scoped>\n",
       "    .dataframe tbody tr th:only-of-type {\n",
       "        vertical-align: middle;\n",
       "    }\n",
       "\n",
       "    .dataframe tbody tr th {\n",
       "        vertical-align: top;\n",
       "    }\n",
       "\n",
       "    .dataframe thead th {\n",
       "        text-align: right;\n",
       "    }\n",
       "</style>\n",
       "<table border=\"1\" class=\"dataframe\">\n",
       "  <thead>\n",
       "    <tr style=\"text-align: right;\">\n",
       "      <th></th>\n",
       "      <th>Rank</th>\n",
       "      <th>Sales</th>\n",
       "      <th>Units</th>\n",
       "    </tr>\n",
       "  </thead>\n",
       "  <tbody>\n",
       "    <tr>\n",
       "      <th>Rank</th>\n",
       "      <td>1.000000</td>\n",
       "      <td>-0.462349</td>\n",
       "      <td>-0.450929</td>\n",
       "    </tr>\n",
       "    <tr>\n",
       "      <th>Sales</th>\n",
       "      <td>-0.462349</td>\n",
       "      <td>1.000000</td>\n",
       "      <td>0.780101</td>\n",
       "    </tr>\n",
       "    <tr>\n",
       "      <th>Units</th>\n",
       "      <td>-0.450929</td>\n",
       "      <td>0.780101</td>\n",
       "      <td>1.000000</td>\n",
       "    </tr>\n",
       "  </tbody>\n",
       "</table>\n",
       "</div>"
      ],
      "text/plain": [
       "           Rank     Sales     Units\n",
       "Rank   1.000000 -0.462349 -0.450929\n",
       "Sales -0.462349  1.000000  0.780101\n",
       "Units -0.450929  0.780101  1.000000"
      ]
     },
     "execution_count": 11,
     "metadata": {},
     "output_type": "execute_result"
    }
   ],
   "source": [
    "# Correlation Matrix between all numeric columns\n",
    "\n",
    "df.corr(method ='pearson')"
   ]
  },
  {
   "cell_type": "code",
   "execution_count": 12,
   "id": "01bc1d65",
   "metadata": {
    "execution": {
     "iopub.execute_input": "2021-12-23T10:42:02.720074Z",
     "iopub.status.busy": "2021-12-23T10:42:02.719081Z",
     "iopub.status.idle": "2021-12-23T10:42:02.974269Z",
     "shell.execute_reply": "2021-12-23T10:42:02.974789Z",
     "shell.execute_reply.started": "2021-12-23T10:36:11.704405Z"
    },
    "papermill": {
     "duration": 0.276245,
     "end_time": "2021-12-23T10:42:02.975001",
     "exception": false,
     "start_time": "2021-12-23T10:42:02.698756",
     "status": "completed"
    },
    "tags": []
   },
   "outputs": [
    {
     "data": {
      "image/png": "[encoded data removed]",
      "text/plain": [
       "<Figure size 432x288 with 2 Axes>"
      ]
     },
     "metadata": {},
     "output_type": "display_data"
    }
   ],
   "source": [
    "correlation_matrix = df.corr()\n",
    "\n",
    "sns.heatmap(correlation_matrix, annot = True)\n",
    "\n",
    "plt.title(\"Correlation Matrix for Variables\")\n",
    "\n",
    "\n",
    "plt.show()\n",
    "\n",
    "# Easier way to visualize correlations between \n",
    "# numeric values within the dataset."
   ]
  }
 ],
 "metadata": {
  "kernelspec": {
   "display_name": "Python 3",
   "language": "python",
   "name": "python3"
  },
  "language_info": {
   "codemirror_mode": {
    "name": "ipython",
    "version": 3
   },
   "file_extension": ".py",
   "mimetype": "text/x-python",
   "name": "python",
   "nbconvert_exporter": "python",
   "pygments_lexer": "ipython3",
   "version": "3.7.12"
  },
  "papermill": {
   "default_parameters": {},
   "duration": 14.401613,
   "end_time": "2021-12-23T10:42:03.705772",
   "environment_variables": {},
   "exception": null,
   "input_path": "__notebook__.ipynb",
   "output_path": "__notebook__.ipynb",
   "parameters": {},
   "start_time": "2021-12-23T10:41:49.304159",
   "version": "2.3.3"
  }
 },
 "nbformat": 4,
 "nbformat_minor": 5
}
